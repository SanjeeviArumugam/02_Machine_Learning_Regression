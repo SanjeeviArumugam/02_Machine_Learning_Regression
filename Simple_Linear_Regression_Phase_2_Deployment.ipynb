{
 "cells": [
  {
   "cell_type": "code",
   "execution_count": 1,
   "id": "6070028b-031f-4a0f-9f7c-fec0867c2708",
   "metadata": {},
   "outputs": [],
   "source": [
    "import pickle"
   ]
  },
  {
   "cell_type": "code",
   "execution_count": 3,
   "id": "60f2ee2a-f619-4e51-92bf-a5df85525068",
   "metadata": {},
   "outputs": [
    {
     "name": "stderr",
     "output_type": "stream",
     "text": [
      "C:\\Users\\Mellinaa Sanjeevi\\anaconda3\\Lib\\site-packages\\sklearn\\base.py:493: UserWarning: X does not have valid feature names, but LinearRegression was fitted with feature names\n",
      "  warnings.warn(\n"
     ]
    }
   ],
   "source": [
    "loaded_model=pickle.load(open(\"finalized_model_linear.sav\",'rb')) # loading the existing saved model and cross check\n",
    "result=loaded_model.predict([[0]]) # 0 inout is nothing but bias value bcoz input data we have start from 1 year experience, if we check for freshers salary (o years of experience) then, bias value will be the fresheres salary\n",
    "# \"y=mx+c\" that is nothing but [9360.26128x+26777.3913] for this particular project"
   ]
  },
  {
   "cell_type": "code",
   "execution_count": 5,
   "id": "cef4345a-4540-41b1-876d-8503a572b55b",
   "metadata": {},
   "outputs": [
    {
     "data": {
      "text/plain": [
       "array([[26777.3913412]])"
      ]
     },
     "execution_count": 5,
     "metadata": {},
     "output_type": "execute_result"
    }
   ],
   "source": [
    "result"
   ]
  }
 ],
 "metadata": {
  "kernelspec": {
   "display_name": "Python 3 (ipykernel)",
   "language": "python",
   "name": "python3"
  },
  "language_info": {
   "codemirror_mode": {
    "name": "ipython",
    "version": 3
   },
   "file_extension": ".py",
   "mimetype": "text/x-python",
   "name": "python",
   "nbconvert_exporter": "python",
   "pygments_lexer": "ipython3",
   "version": "3.12.4"
  }
 },
 "nbformat": 4,
 "nbformat_minor": 5
}
